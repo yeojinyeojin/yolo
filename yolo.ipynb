{
 "cells": [
  {
   "cell_type": "code",
   "execution_count": 2,
   "source": [
    "import os\n",
    "import time\n",
    "import cv2\n",
    "import numpy as np"
   ],
   "outputs": [],
   "metadata": {}
  },
  {
   "cell_type": "code",
   "execution_count": 3,
   "source": [
    "image = 'images/student_id.jpg' #path to input image (will detect objects in this image using YOLO)\n",
    "yolo = 'yolo-coco/' #base path to YOLO directory (will load the required YOLO files in order to perform object detection)\n",
    "confidence_threshold = 0.5 #min probability to filter weak detections\n",
    "threshold = 0.3 #non-maxima suppression threshold"
   ],
   "outputs": [],
   "metadata": {}
  },
  {
   "cell_type": "code",
   "execution_count": 4,
   "source": [
    "# load the COCO class labels that our YOLO model was trained on\n",
    "labelsPath = os.path.sep.join([yolo, \"coco.names\"])\n",
    "LABELS = open(labelsPath).read().strip().split(\"\\n\")\n",
    "\n",
    "# initialize a list of colors to represent each possible class label\n",
    "np.random.seed(42)\n",
    "COLORS = np.random.randint(0,255,size=(len(LABELS),3),dtype=\"uint8\")"
   ],
   "outputs": [],
   "metadata": {}
  },
  {
   "cell_type": "code",
   "execution_count": 5,
   "source": [
    "# derive the paths to the YOLO weights and model configuration\n",
    "weightsPath = os.path.sep.join([yolo, \"yolov3.weights\"])\n",
    "configPath = os.path.sep.join([yolo, \"yolov3.cfg\"])\n",
    "\n",
    "# load our YOLO object detector trained on COCO dataset (80 classes)\n",
    "print(\"[INFO] loading YOLO from disk...\")\n",
    "net = cv2.dnn.readNetFromDarknet(configPath,weightsPath)"
   ],
   "outputs": [
    {
     "output_type": "stream",
     "name": "stdout",
     "text": [
      "[INFO] loading YOLO from disk...\n"
     ]
    }
   ],
   "metadata": {}
  },
  {
   "cell_type": "code",
   "execution_count": 6,
   "source": [
    "# load our input image and grab its spatial dimensions\n",
    "image = cv2.imread(image)\n",
    "(H,W) = image.shape[:2]\n",
    "\n",
    "# determine only the *output* layer names that we need from YOLO\n",
    "ln = net.getLayerNames()\n",
    "ln = [ln[i[0]-1] for i in net.getUnconnectedOutLayers()]\n",
    "\n",
    "# construct a blob from the input image and then perform a forward pass of the YOLO object detector\n",
    "# , giving us our bounding boxes and associated probabilities\n",
    "blob = cv2.dnn.blobFromImage(image, 1/255.0,(416,416),swapRB=True,crop=False)\n",
    "net.setInput(blob)\n",
    "start = time.time()\n",
    "layerOutputs = net.forward(ln) #perofrm a forward pass through YOLO network\n",
    "end = time.time()\n",
    "\n",
    "# show timing information on YOLO\n",
    "print(\"[INFO] YOLO took {:.6f} secs\".format(end-start))"
   ],
   "outputs": [
    {
     "output_type": "stream",
     "name": "stdout",
     "text": [
      "[INFO] YOLO took 0.604439 secs\n"
     ]
    }
   ],
   "metadata": {}
  },
  {
   "cell_type": "code",
   "execution_count": 7,
   "source": [
    "# initialize our lists of detected bounding boxes, confidences, and class IDs, respectively\n",
    "boxes = []\n",
    "confidences = [] #lower confidence value = object might not be what the network thinks it is\n",
    "#NOTE: filter out objects that don't meet the threshold (0.5)\n",
    "classIDs = []"
   ],
   "outputs": [],
   "metadata": {}
  },
  {
   "cell_type": "code",
   "execution_count": 8,
   "source": [
    "layerOutputs[0][0]"
   ],
   "outputs": [
    {
     "output_type": "execute_result",
     "data": {
      "text/plain": [
       "array([4.7612704e-02, 3.3864547e-02, 2.8027838e-01, 1.8578026e-01,\n",
       "       8.5099011e-10, 0.0000000e+00, 0.0000000e+00, 0.0000000e+00,\n",
       "       0.0000000e+00, 0.0000000e+00, 0.0000000e+00, 0.0000000e+00,\n",
       "       0.0000000e+00, 0.0000000e+00, 0.0000000e+00, 0.0000000e+00,\n",
       "       0.0000000e+00, 0.0000000e+00, 0.0000000e+00, 0.0000000e+00,\n",
       "       0.0000000e+00, 0.0000000e+00, 0.0000000e+00, 0.0000000e+00,\n",
       "       0.0000000e+00, 0.0000000e+00, 0.0000000e+00, 0.0000000e+00,\n",
       "       0.0000000e+00, 0.0000000e+00, 0.0000000e+00, 0.0000000e+00,\n",
       "       0.0000000e+00, 0.0000000e+00, 0.0000000e+00, 0.0000000e+00,\n",
       "       0.0000000e+00, 0.0000000e+00, 0.0000000e+00, 0.0000000e+00,\n",
       "       0.0000000e+00, 0.0000000e+00, 0.0000000e+00, 0.0000000e+00,\n",
       "       0.0000000e+00, 0.0000000e+00, 0.0000000e+00, 0.0000000e+00,\n",
       "       0.0000000e+00, 0.0000000e+00, 0.0000000e+00, 0.0000000e+00,\n",
       "       0.0000000e+00, 0.0000000e+00, 0.0000000e+00, 0.0000000e+00,\n",
       "       0.0000000e+00, 0.0000000e+00, 0.0000000e+00, 0.0000000e+00,\n",
       "       0.0000000e+00, 0.0000000e+00, 0.0000000e+00, 0.0000000e+00,\n",
       "       0.0000000e+00, 0.0000000e+00, 0.0000000e+00, 0.0000000e+00,\n",
       "       0.0000000e+00, 0.0000000e+00, 0.0000000e+00, 0.0000000e+00,\n",
       "       0.0000000e+00, 0.0000000e+00, 0.0000000e+00, 0.0000000e+00,\n",
       "       0.0000000e+00, 0.0000000e+00, 0.0000000e+00, 0.0000000e+00,\n",
       "       0.0000000e+00, 0.0000000e+00, 0.0000000e+00, 0.0000000e+00,\n",
       "       0.0000000e+00], dtype=float32)"
      ]
     },
     "metadata": {},
     "execution_count": 8
    }
   ],
   "metadata": {}
  },
  {
   "cell_type": "code",
   "execution_count": 9,
   "source": [
    "# loop over each of the layer outputs\n",
    "for output in layerOutputs:\n",
    "    # loop over each of the detections\n",
    "    for detection in output:\n",
    "        # extract class ID and confidence (probability) of the current object detection\n",
    "        scores = detection[5:]\n",
    "        classID = np.argmax(scores)\n",
    "        confidence = scores[classID]\n",
    "\n",
    "        # filter out weak predictions\n",
    "        if confidence > confidence_threshold:\n",
    "            # scale the bounding box coordinates back relative to the size of the image\n",
    "            # NOTE: YOLO actually returns the center (x,y)-coordinates of the bounding box followed by the boxes' width and height\n",
    "            box = detection[0:4] * np.array([W,H,W,H])\n",
    "            (centerX,centerY,width,height) = box.astype(\"int\")\n",
    "\n",
    "            # use the center (x,y)-coordinate to derive the top left corner of the bounding box\n",
    "            x = int(centerX-(width/2))\n",
    "            y = int(centerY-(height/2))\n",
    "\n",
    "            # update our lists\n",
    "            boxes.append([x,y,int(width),int(height)])\n",
    "            confidences.append(float(confidence))\n",
    "            classIDs.append(classID)"
   ],
   "outputs": [],
   "metadata": {}
  },
  {
   "cell_type": "code",
   "execution_count": 10,
   "source": [
    "# apply non-maxima suppresstion\n",
    "idxs = cv2.dnn.NMSBoxes(boxes,confidences,confidence_threshold,threshold)\n",
    "# this suppresses significantly overlapping vounding boxes, keeping only the most confident ones\n",
    "# it also ensures that we do not have any redundant or extraneous bounding boxes"
   ],
   "outputs": [],
   "metadata": {}
  },
  {
   "cell_type": "code",
   "execution_count": 11,
   "source": [
    "# draw the boxes and class text on the image\n",
    "if len(idxs)>0: #ensure at least one detection exists\n",
    "    for i in idxs.flatten():\n",
    "        # extract the bounding box coordinates\n",
    "        (x,y) = (boxes[i][0],boxes[i][1])\n",
    "        (w,h) = (boxes[i][2],boxes[i][3])\n",
    "\n",
    "        # draw a bounding box rectangle and label on the image\n",
    "        color = [int(c) for c in COLORS[classIDs[i]]]\n",
    "        cv2.rectangle(image, (x,y), (x+w,y+h), color, 2)\n",
    "        text = \"{}: {:.4f}\".format(LABELS[classIDs[i]],confidences[i])\n",
    "        cv2.putText(image,text,(x,y-5),cv2.FONT_HERSHEY_SIMPLEX,0.5,color,2)\n",
    "\n",
    "# show the output image\n",
    "cv2.imshow(\"Image\",image)\n",
    "cv2.waitKey(0)\n",
    "cv2.destroyAllWindows()\n",
    "cv2.waitKey(1)"
   ],
   "outputs": [
    {
     "output_type": "execute_result",
     "data": {
      "text/plain": [
       "-1"
      ]
     },
     "metadata": {},
     "execution_count": 11
    }
   ],
   "metadata": {}
  },
  {
   "cell_type": "code",
   "execution_count": null,
   "source": [],
   "outputs": [],
   "metadata": {}
  }
 ],
 "metadata": {
  "orig_nbformat": 4,
  "language_info": {
   "name": "python",
   "version": "3.8.6",
   "mimetype": "text/x-python",
   "codemirror_mode": {
    "name": "ipython",
    "version": 3
   },
   "pygments_lexer": "ipython3",
   "nbconvert_exporter": "python",
   "file_extension": ".py"
  },
  "kernelspec": {
   "name": "python3",
   "display_name": "Python 3.8.6 64-bit (conda)"
  },
  "interpreter": {
   "hash": "9fbc0f44d5d3a5dc098154fd201acf82d592a6ddeff7207d99cfe53c7fe92fe8"
  }
 },
 "nbformat": 4,
 "nbformat_minor": 2
}