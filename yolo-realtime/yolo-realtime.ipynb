{
 "cells": [
  {
   "cell_type": "code",
   "execution_count": null,
   "source": [],
   "outputs": [],
   "metadata": {}
  }
 ],
 "metadata": {
  "orig_nbformat": 4,
  "language_info": {
   "name": "python",
   "version": "3.8.0"
  },
  "kernelspec": {
   "name": "python3",
   "display_name": "Python 3.8.0 64-bit ('yoloing': conda)"
  },
  "interpreter": {
   "hash": "8816270150bc4a5ff6b744185fa9ee8005e66bbce302098329e884586c1533d5"
  }
 },
 "nbformat": 4,
 "nbformat_minor": 2
}