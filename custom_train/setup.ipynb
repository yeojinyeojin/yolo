{
 "cells": [
  {
   "cell_type": "code",
   "execution_count": 21,
   "source": [
    "import os\n",
    "import glob"
   ],
   "outputs": [],
   "metadata": {}
  },
  {
   "cell_type": "code",
   "execution_count": 14,
   "source": [
    "# add file paths to train.txt and valid txt\n",
    "\n",
    "def extract_to_txt(datapath,name):\n",
    "\n",
    "    f = open(datapath+name+'.txt','w')\n",
    "\n",
    "    for p in glob.glob(datapath+name+'/*.jpg'):\n",
    "        f.write(p+'\\n')"
   ],
   "outputs": [],
   "metadata": {}
  },
  {
   "cell_type": "code",
   "execution_count": 16,
   "source": [
    "datapath = '/home/yeojinjung/Documents/darknet-alex/rps/'\n",
    "\n",
    "extract_to_txt(datapath,'train')\n",
    "extract_to_txt(datapath,'valid')"
   ],
   "outputs": [],
   "metadata": {}
  },
  {
   "cell_type": "code",
   "execution_count": null,
   "source": [],
   "outputs": [],
   "metadata": {}
  }
 ],
 "metadata": {
  "orig_nbformat": 4,
  "language_info": {
   "name": "python",
   "version": "3.8.0",
   "mimetype": "text/x-python",
   "codemirror_mode": {
    "name": "ipython",
    "version": 3
   },
   "pygments_lexer": "ipython3",
   "nbconvert_exporter": "python",
   "file_extension": ".py"
  },
  "kernelspec": {
   "name": "python3",
   "display_name": "Python 3.8.0 64-bit ('yoloing': conda)"
  },
  "interpreter": {
   "hash": "1bf62df399496169bf0f0d6654321b36a265b32c003ca8740f474f99a56725cc"
  }
 },
 "nbformat": 4,
 "nbformat_minor": 2
}